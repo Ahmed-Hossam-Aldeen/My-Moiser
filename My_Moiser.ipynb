{
  "nbformat": 4,
  "nbformat_minor": 0,
  "metadata": {
    "colab": {
      "name": "My Moiser.ipynb",
      "provenance": [],
      "collapsed_sections": []
    },
    "kernelspec": {
      "name": "python3",
      "display_name": "Python 3"
    },
    "language_info": {
      "name": "python"
    }
  },
  "cells": [
    {
      "cell_type": "code",
      "execution_count": null,
      "metadata": {
        "id": "4NmNIWjU_z_G"
      },
      "outputs": [],
      "source": [
        "!pip install spleeter\n",
        "!python3 -m pip install -U yt-dlp\n",
        "!pip install pydub\n",
        "!apt-get install rar"
      ]
    },
    {
      "cell_type": "code",
      "source": [
        "link = input(\"Enter Link: \")\n",
        "ydlp_opts = {\n",
        "   \n",
        "    'format': 'bestaudio/best',\n",
        "     'outtmpl':'input.mp3',\n",
        "    'postprocessors': [{\n",
        "        'key': 'FFmpegExtractAudio',\n",
        "        'preferredcodec': 'mp3',\n",
        "        'preferredquality': '320',\n",
        "\n",
        "    }],\n",
        "}\n",
        "import yt_dlp\n",
        "import os\n",
        "with yt_dlp.YoutubeDL(ydlp_opts) as ydl:\n",
        "    ydl.download([link])"
      ],
      "metadata": {
        "colab": {
          "base_uri": "https://localhost:8080/"
        },
        "id": "AGNFtT3x_6u8",
        "outputId": "48c4058b-66f6-41cc-a27e-0ee80640e950"
      },
      "execution_count": 2,
      "outputs": [
        {
          "output_type": "stream",
          "name": "stdout",
          "text": [
            "Enter Link: https://www.youtube.com/watch?v=g7Wboo1Qcqw\n",
            "[youtube] g7Wboo1Qcqw: Downloading webpage\n",
            "[youtube] g7Wboo1Qcqw: Downloading android player API JSON\n",
            "[info] g7Wboo1Qcqw: Downloading 1 format(s): 251\n",
            "[download] Destination: input.mp3\n",
            "[download] 100% of 4.45MiB in 00:00               \n",
            "[ExtractAudio] Destination: input.mp3\n",
            "Deleting original file input.orig.mp3 (pass -k to keep)\n"
          ]
        }
      ]
    },
    {
      "cell_type": "code",
      "source": [
        "input_mp3 = \"input.mp3\"\n",
        "title = input_mp3[:-4]\n",
        "print(title)\n",
        "!spleeter separate -p spleeter:4stems -o output {input_mp3}\n",
        "\n",
        "from pydub import AudioSegment\n",
        "AudioSegment.from_wav(f\"/content/output/{title}/bass.wav\").export(title+\"_bass.mp3\", format=\"mp3\")\n",
        "AudioSegment.from_wav(f\"/content/output/{title}/drums.wav\").export(title+\"_drums.mp3\", format=\"mp3\")\n",
        "AudioSegment.from_wav(f\"/content/output/{title}/vocals.wav\").export(title+\"_vocals.mp3\", format=\"mp3\")\n",
        "AudioSegment.from_wav(f\"/content/output/{title}/other.wav\").export(title+\"_other.mp3\", format=\"mp3\")"
      ],
      "metadata": {
        "colab": {
          "base_uri": "https://localhost:8080/"
        },
        "id": "LobTA7-a_6pY",
        "outputId": "f526ca4d-bd5d-40c9-d569-2328b2e0c33f"
      },
      "execution_count": 3,
      "outputs": [
        {
          "output_type": "stream",
          "name": "stdout",
          "text": [
            "input\n",
            "INFO:spleeter:Downloading model archive https://github.com/deezer/spleeter/releases/download/v1.4.0/4stems.tar.gz\n",
            "INFO:spleeter:Validating archive checksum\n",
            "INFO:spleeter:Extracting downloaded 4stems archive\n",
            "INFO:spleeter:4stems model file(s) extracted\n",
            "tcmalloc: large alloc 1205968896 bytes == 0xd5b08000 @  0x7fbf533dd1e7 0x7fbf1ca8ff42 0x7fbf1f494c5a 0x7fbf1f8355c4 0x7fbf1f885b1f 0x7fbf1f887769 0x7fbf1f888757 0x7fbf1f889e6e 0x7fbf1f88e942 0x7fbf1f88ee3f 0x7fbf1572ee54 0x7fbf157231be 0x7fbf1abd9021 0x7fbf1abd5d33 0x7fbf15e6b8b5 0x7fbf52da16db 0x7fbf530da61f\n",
            "INFO:spleeter:File output/input/vocals.wav written succesfully\n",
            "INFO:spleeter:File output/input/drums.wav written succesfully\n",
            "INFO:spleeter:File output/input/bass.wav written succesfully\n",
            "INFO:spleeter:File output/input/other.wav written succesfully\n"
          ]
        },
        {
          "output_type": "execute_result",
          "data": {
            "text/plain": [
              "<_io.BufferedRandom name='input_other.mp3'>"
            ]
          },
          "metadata": {},
          "execution_count": 3
        }
      ]
    },
    {
      "cell_type": "code",
      "source": [
        "import os.path\n",
        "from os import path\n",
        "import shutil\n",
        "\n",
        "if path.exists(\"outputMp3\") == False:\n",
        "  !mkdir outputMp3\n",
        "\n",
        "shutil.move(f\"{title}_vocals.mp3\", \"outputMp3\")\n",
        "shutil.move(f\"{title}_other.mp3\", \"outputMp3\")\n",
        "shutil.move(f\"{title}_drums.mp3\", \"outputMp3\")\n",
        "shutil.move(f\"{title}_bass.mp3\", \"outputMp3\")"
      ],
      "metadata": {
        "colab": {
          "base_uri": "https://localhost:8080/",
          "height": 36
        },
        "id": "9z79nu2E_6jM",
        "outputId": "77b69182-dedc-4c26-d5e6-0f64888b64ab"
      },
      "execution_count": 4,
      "outputs": [
        {
          "output_type": "execute_result",
          "data": {
            "text/plain": [
              "'outputMp3/input_bass.mp3'"
            ],
            "application/vnd.google.colaboratory.intrinsic+json": {
              "type": "string"
            }
          },
          "metadata": {},
          "execution_count": 4
        }
      ]
    },
    {
      "cell_type": "code",
      "source": [
        "!zip -r \"outputMp3.zip\" \"/content/outputMp3\""
      ],
      "metadata": {
        "colab": {
          "base_uri": "https://localhost:8080/"
        },
        "id": "v8vnkDNK_6bN",
        "outputId": "06cef9e5-48e9-42ab-86d2-d7ff9db71cfe"
      },
      "execution_count": 5,
      "outputs": [
        {
          "output_type": "stream",
          "name": "stdout",
          "text": [
            "  adding: content/outputMp3/ (stored 0%)\n",
            "  adding: content/outputMp3/input_drums.mp3 (deflated 17%)\n",
            "  adding: content/outputMp3/input_vocals.mp3 (deflated 9%)\n",
            "  adding: content/outputMp3/input_bass.mp3 (deflated 46%)\n",
            "  adding: content/outputMp3/input_other.mp3 (deflated 2%)\n"
          ]
        }
      ]
    }
  ]
}